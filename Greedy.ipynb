{
  "nbformat": 4,
  "nbformat_minor": 0,
  "metadata": {
    "colab": {
      "provenance": [],
      "authorship_tag": "ABX9TyPn6Rmot/c8mKOe3L/zTxOZ",
      "include_colab_link": true
    },
    "kernelspec": {
      "name": "python3",
      "display_name": "Python 3"
    },
    "language_info": {
      "name": "python"
    }
  },
  "cells": [
    {
      "cell_type": "markdown",
      "metadata": {
        "id": "view-in-github",
        "colab_type": "text"
      },
      "source": [
        "<a href=\"https://colab.research.google.com/github/Victor-Tal/dynamic-programming-greedy-activities/blob/main/Greedy.ipynb\" target=\"_parent\"><img src=\"https://colab.research.google.com/assets/colab-badge.svg\" alt=\"Open In Colab\"/></a>"
      ]
    },
    {
      "cell_type": "markdown",
      "source": [
        "<center>\n",
        "<h1> Cordero Correa Victor Hugo :)\n",
        "<h4> Programación Dinámica y Algoritmos Voraces\n",
        "<h5> RECURSIVE-ACTIVITY-SELECTOR\n",
        "</center>\n",
        "<hr>"
      ],
      "metadata": {
        "id": "nUZ8Nzhf17Si"
      }
    },
    {
      "cell_type": "code",
      "execution_count": null,
      "metadata": {
        "colab": {
          "base_uri": "https://localhost:8080/"
        },
        "id": "k5SeC93B15O3",
        "outputId": "07652891-80b1-4a39-93e4-5d9f58719e26"
      },
      "outputs": [
        {
          "output_type": "stream",
          "name": "stdout",
          "text": [
            "[[1, 4], [5, 7], [8, 11], [12, 16]]\n",
            "Las aactividades seleccionadas, son: \n",
            "\n",
            "\n",
            "0  1  3  4  "
          ]
        }
      ],
      "source": [
        "a = [[5,7],[1,4],[3,5],[0,6],[3,9],[5,9],[6,10],[8,11],[8,12],[2,14],[12,16]]\n",
        "a = sorted(a, key=lambda e:e[1])\n",
        "a.insert(0, [-1,0])\n",
        "\n",
        "def RECURSIVE_ACTIVITY_SELECTOR(s,f,k,n): #slecrtor recursivo\n",
        "  '''Maximiza la cuenta de actividades ejecutables\n",
        "\n",
        "     PARAMETROS:\n",
        "     s: arreglo de actividades\n",
        "     n: numero de actividades\n",
        "     f: arreglo'''\n",
        "  m= k+1\n",
        "  while m<=n and s[m]<f[k]: \n",
        "    m= m+1 #aumento del valor k\n",
        "  if m<=n:\n",
        "    r = RECURSIVE_ACTIVITY_SELECTOR(s, f, m, n) #paso recursivo con cambio de parametros\n",
        "    r.insert(0, a[m]) #insertar al arreglo a\n",
        "    return r #Salida de actividades\n",
        "  else:\n",
        "    return [] #null\n",
        "\n",
        "\n",
        "s, f = [e[0] for e in a], [e[1] for e in a]\n",
        "r = RECURSIVE_ACTIVITY_SELECTOR(s, f, 0, len(a)-1)\n",
        "print(r)\n",
        "\n",
        "def GREEDY_ACTIVITY(s,f): \n",
        "  '''Maximiza la cuenta de actividades ejecutables\n",
        "      PARAMETROS:\n",
        "      s[]: artreglo contiene tiempo de inicio de actividades\n",
        "      f[] contiene tiempo de finalizado de las actividades'''\n",
        "  \n",
        "  n = len(f) \n",
        "  A= a[1]\n",
        "  k=0\n",
        "  print('Las aactividades seleccionadas, son: \\n\\n')\n",
        "  print (k,end='  ') #primer actividad seleccionada\n",
        "  \n",
        "  for m in range(n):\n",
        "    if s[m]>=f[k]:\n",
        "      print(m,end=\"  \") #salida de arreglo referida a la solucion numero maximo de actividades \n",
        "      k = m \n",
        "\n",
        "\n",
        "s = [1 , 3 , 0 , 5 , 8 , 5] #arreglo inicio tiempos\n",
        "f = [2 , 4 , 6 , 7 , 9 , 9] #arreglo fin tiempos\n",
        "GREEDY_ACTIVITY(s, f)"
      ]
    },
    {
      "cell_type": "code",
      "source": [],
      "metadata": {
        "id": "4vYicwz125FW"
      },
      "execution_count": null,
      "outputs": []
    }
  ]
}